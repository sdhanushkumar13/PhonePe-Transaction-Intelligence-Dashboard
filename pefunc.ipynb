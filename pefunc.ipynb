{
 "cells": [
  {
   "cell_type": "code",
   "execution_count": 1,
   "id": "471ace79",
   "metadata": {},
   "outputs": [],
   "source": [
    "import psycopg2\n",
    "import pandas as pd\n",
    "import plotly.express as px\n",
    "import requests\n",
    "import json"
   ]
  },
  {
   "cell_type": "markdown",
   "id": "b34a5aa4",
   "metadata": {},
   "source": [
    "### DATAFRAME CREATION"
   ]
  },
  {
   "cell_type": "code",
   "execution_count": 2,
   "id": "0f5173c2",
   "metadata": {},
   "outputs": [],
   "source": [
    "\n",
    "\n",
    "# sql connection\n",
    "\n",
    "mydb = psycopg2.connect(host= \"localhost\",\n",
    "                        user = \"postgres\",\n",
    "                         port = \"5432\",\n",
    "                          database = \"Ppe_data\",\n",
    "                           password = \"root\" )\n",
    "\n",
    "cursor = mydb.cursor()\n",
    "\n",
    "\n",
    "#aggregated_transaction_dataframe\n",
    "\n",
    "cursor.execute(\"SELECT * FROM aggregated_transaction\")\n",
    "mydb.commit()\n",
    "Table1 = cursor.fetchall()\n",
    "\n",
    "A_transaction = pd.DataFrame(Table1, columns = (\"States\", \"Years\", \"Quarter\", \"Transaction_type\",\n",
    "                                                \"Transaction_count\", \"Transaction_amount\" ))\n",
    "\n",
    "#aggregated_insurance_dataframe\n",
    "\n",
    "cursor.execute(\"SELECT * FROM aggregated_insurance\")\n",
    "mydb.commit()\n",
    "Table2 = cursor.fetchall()\n",
    "\n",
    "A_insurance = pd.DataFrame(Table2, columns = (\"States\", \"Years\", \"Quarter\", \"Transaction_type\",\n",
    "                                                \"Transaction_count\", \"Transaction_amount\" ))\n",
    "\n",
    "#aggregated_user_dataframe\n",
    "\n",
    "cursor.execute(\"SELECT * FROM aggregated_user\")\n",
    "mydb.commit()\n",
    "Table3 = cursor.fetchall()\n",
    "\n",
    "A_user = pd.DataFrame(Table3, columns = (\"States\", \"Years\", \"Quarter\", \"Brands\",\n",
    "                                                \"Transaction_count\", \"Percentage\" ))\n",
    "\n",
    "#map_transaction_dataframe\n",
    "\n",
    "cursor.execute(\"SELECT * FROM map_transaction\")\n",
    "mydb.commit()\n",
    "Table4 = cursor.fetchall()\n",
    "\n",
    "M_transaction = pd.DataFrame(Table4, columns = (\"States\", \"Years\", \"Quarter\", \"Districts\",\n",
    "                                                \"Transaction_count\", \"Transaction_amount\" ))\n",
    "\n",
    "#map_insurance_dataframe\n",
    "\n",
    "cursor.execute(\"SELECT * FROM map_insurance\")\n",
    "mydb.commit()\n",
    "Table5 = cursor.fetchall()\n",
    "\n",
    "M_insurance = pd.DataFrame(Table5, columns = (\"States\", \"Years\", \"Quarter\", \"Districts\",\n",
    "                                                \"Transaction_count\", \"Transaction_amount\" ))\n",
    "\n",
    "#map_user_dataframe\n",
    "\n",
    "cursor.execute(\"SELECT * FROM map_user\")\n",
    "mydb.commit()\n",
    "Table6 = cursor.fetchall()\n",
    "\n",
    "M_user = pd.DataFrame(Table6, columns = (\"States\", \"Years\", \"Quarter\", \"Districts\",\n",
    "                                                \"RegisteredUsers\", \"AppOpens\" ))\n",
    "\n",
    "#top_transaction_dataframe\n",
    "\n",
    "cursor.execute(\"SELECT * FROM top_transaction\")\n",
    "mydb.commit()\n",
    "Table7 = cursor.fetchall()\n",
    "\n",
    "T_transaction = pd.DataFrame(Table7, columns = (\"States\", \"Years\", \"Quarter\", \"Pincodes\",\n",
    "                                                \"Transaction_count\", \"Transaction_amount\" ))\n",
    "\n",
    "#top_insurance_dataframe\n",
    "\n",
    "cursor.execute(\"SELECT * FROM top_insurance\")\n",
    "mydb.commit()\n",
    "Table8 = cursor.fetchall()\n",
    "\n",
    "T_insurance = pd.DataFrame(Table8, columns = (\"States\", \"Years\", \"Quarter\", \"Pincodes\",\n",
    "                                                \"Transaction_count\", \"Transaction_amount\" ))\n",
    "\n",
    "#top_user_dataframe\n",
    "\n",
    "cursor.execute(\"SELECT * FROM top_user\")\n",
    "mydb.commit()\n",
    "Table9 = cursor.fetchall()\n",
    "\n",
    "T_user = pd.DataFrame(Table9, columns = (\"States\", \"Years\", \"Quarter\", \"Pincodes\",\n",
    "                                                \"RegisteredUsers\" ))\n",
    "\n"
   ]
  },
  {
   "cell_type": "markdown",
   "id": "92307f1e",
   "metadata": {},
   "source": [
    "### AGGREGATED FUNCTIONS"
   ]
  },
  {
   "cell_type": "code",
   "execution_count": 3,
   "id": "b786356a",
   "metadata": {},
   "outputs": [],
   "source": [
    "def transaction_amount_count_Y(df, year):\n",
    "\n",
    "    tacy = df[df[\"Years\"] == year]\n",
    "    tacy.reset_index(drop=True, inplace=True)\n",
    "\n",
    "    tacy_group = tacy.groupby(\"States\")[[\"Transaction_count\", \"Transaction_amount\"]].sum()\n",
    "    tacy_group.reset_index(inplace=True)\n",
    "\n",
    "    fig_amount = px.bar(tacy_group, x=\"States\", y= \"Transaction_amount\", title= f\"{year} TRANSACTION AMOUNT\", color_discrete_sequence= px.colors.sequential.Bluered)\n",
    "    fig_amount.show()\n",
    "\n",
    "    fig_count = px.bar(tacy_group, x=\"States\", y= \"Transaction_count\", title= f\"{year} TRANSACTION COUNT\", color_discrete_sequence= px.colors.sequential.BuGn_r)\n",
    "    fig_count.show()\n",
    "\n",
    "    url = \"https://gist.githubusercontent.com/jbrobst/56c13bbbf9d97d187fea01ca62ea5112/raw/e388c4cae20aa53cb5090210a42ebb9b765c0a36/india_states.geojson\"\n",
    "    response = requests.get(url)\n",
    "    data1 = json.loads(response.content)\n",
    "\n",
    "    states_name = []\n",
    "    for feature in data1[\"features\"]:\n",
    "        states_name.append(feature[\"properties\"][\"ST_NM\"])\n",
    "    states_name.sort()\n",
    "\n",
    "    fig_india_1 = px.choropleth(tacy_group, geojson=data1, locations=\"States\", \n",
    "                                featureidkey=\"properties.ST_NM\", \n",
    "                                color=\"Transaction_amount\", \n",
    "                                color_continuous_scale=\"Rainbow\", \n",
    "                                range_color=(tacy_group[\"Transaction_amount\"].min(), tacy_group[\"Transaction_amount\"].max()), \n",
    "                                hover_name= \"States\", title=f\"{year} TRANSACTION AMOUNT\", fitbounds= \"locations\", \n",
    "                                height= 600, width= 600)\n",
    "   \n",
    "    fig_india_1.update_geos(visible=False)\n",
    "    fig_india_1.show()\n",
    "\n",
    "    fig_india_2 = px.choropleth(tacy_group, geojson=data1, locations=\"States\", \n",
    "                                featureidkey=\"properties.ST_NM\", \n",
    "                                color=\"Transaction_count\", \n",
    "                                color_continuous_scale=\"Rainbow\", \n",
    "                                range_color=(tacy_group[\"Transaction_count\"].min(), tacy_group[\"Transaction_count\"].max()), \n",
    "                                hover_name= \"States\", title=f\"{year} TRANSACTION COUNT\", fitbounds= \"locations\", \n",
    "                                height= 600, width= 600)\n",
    "   \n",
    "    fig_india_2.update_geos(visible=False)\n",
    "    fig_india_2.show()\n",
    "\n",
    "\n",
    "    return tacy"
   ]
  },
  {
   "cell_type": "code",
   "execution_count": 4,
   "id": "7a480e05",
   "metadata": {},
   "outputs": [],
   "source": [
    "def transaction_amount_count_Y_Q(df, quarter):\n",
    "\n",
    "    tacy = df[df[\"Quarter\"] == quarter]\n",
    "    tacy.reset_index(drop=True, inplace=True)\n",
    "\n",
    "    tacy_group = tacy.groupby(\"States\")[[\"Transaction_count\", \"Transaction_amount\"]].sum()\n",
    "    tacy_group.reset_index(inplace=True)\n",
    "\n",
    "    fig_amount = px.bar(tacy_group, x=\"States\", y= \"Transaction_amount\", title= f\"{tacy['Years'].min()} YEAR {quarter} QUARTER TRANSACTION AMOUNT\", color_discrete_sequence= px.colors.sequential.Bluered)\n",
    "    fig_amount.show()\n",
    "\n",
    "    fig_count = px.bar(tacy_group, x=\"States\", y= \"Transaction_count\", title= f\"{tacy['Years'].min()} YEAR {quarter} QUARTER TRANSACTION COUNT\", color_discrete_sequence= px.colors.sequential.BuGn_r)\n",
    "    fig_count.show()\n",
    "\n",
    "    url = \"https://gist.githubusercontent.com/jbrobst/56c13bbbf9d97d187fea01ca62ea5112/raw/e388c4cae20aa53cb5090210a42ebb9b765c0a36/india_states.geojson\"\n",
    "    response = requests.get(url)\n",
    "    data1 = json.loads(response.content)\n",
    "\n",
    "    states_name = []\n",
    "    for feature in data1[\"features\"]:\n",
    "        states_name.append(feature[\"properties\"][\"ST_NM\"])\n",
    "    states_name.sort()\n",
    "\n",
    "    fig_india_1 = px.choropleth(tacy_group, geojson=data1, locations=\"States\", \n",
    "                                featureidkey=\"properties.ST_NM\", \n",
    "                                color=\"Transaction_amount\", \n",
    "                                color_continuous_scale=\"Rainbow\", \n",
    "                                range_color=(tacy_group[\"Transaction_amount\"].min(), tacy_group[\"Transaction_amount\"].max()), \n",
    "                                hover_name= \"States\", title=f\"{tacy['Years'].min()} YEAR {quarter} QUARTER TRANSACTION AMOUNT\", fitbounds= \"locations\", \n",
    "                                height= 600, width= 600)\n",
    "   \n",
    "    fig_india_1.update_geos(visible=False)\n",
    "    fig_india_1.show()\n",
    "\n",
    "    fig_india_2 = px.choropleth(tacy_group, geojson=data1, locations=\"States\", \n",
    "                                featureidkey=\"properties.ST_NM\", \n",
    "                                color=\"Transaction_count\", \n",
    "                                color_continuous_scale=\"Rainbow\", \n",
    "                                range_color=(tacy_group[\"Transaction_count\"].min(), tacy_group[\"Transaction_count\"].max()), \n",
    "                                hover_name= \"States\", title=f\"{tacy['Years'].min()} YEAR {quarter} QUARTER TRANSACTION COUNT\", fitbounds= \"locations\", \n",
    "                                height= 600, width= 600)\n",
    "   \n",
    "    fig_india_2.update_geos(visible=False)\n",
    "    fig_india_2.show()\n",
    "\n",
    "    return tacy\n"
   ]
  },
  {
   "cell_type": "code",
   "execution_count": 5,
   "id": "a4c51d0d",
   "metadata": {},
   "outputs": [],
   "source": [
    "def Agg_tran_type(df, state):\n",
    "\n",
    "\n",
    "    tacy = df[df[\"States\"] == state]\n",
    "    tacy.reset_index(drop=True, inplace=True)\n",
    "\n",
    "    tacy_group = tacy.groupby(\"Transaction_type\")[[\"Transaction_count\", \"Transaction_amount\"]].sum()\n",
    "    tacy_group.reset_index(inplace=True)\n",
    "\n",
    "    fig_pie_1 = px.pie(data_frame= tacy_group, names= \"Transaction_type\", values= \"Transaction_amount\",\n",
    "                            width= 600, title= f\"{state.upper()} TRANSACTION AMOUNT\", hole= 0.5,)\n",
    "    fig_pie_1.show()\n",
    "\n",
    "    fig_pie_2 = px.pie(data_frame= tacy_group, names= \"Transaction_type\", values= \"Transaction_count\",\n",
    "                            width= 600, title= f\"{state.upper()} TRANSACTION COUNT\", hole= 0.5,)\n",
    "    fig_pie_2.show()"
   ]
  },
  {
   "cell_type": "code",
   "execution_count": 6,
   "id": "66fd2cab",
   "metadata": {},
   "outputs": [],
   "source": [
    "def Agg_user_plot_1(df, year):\n",
    "    A_user_Y  = df[df[\"Years\"] == year]\n",
    "    A_user_Y.reset_index(drop= True, inplace= True)\n",
    "\n",
    "    A_user_Y_group = pd.DataFrame(A_user_Y.groupby(\"Brands\")[\"Transaction_count\"].sum())\n",
    "    A_user_Y_group.reset_index(inplace=True)\n",
    "\n",
    "    fig_bar_1 = px.bar(A_user_Y_group, x= \"Brands\", y= \"Transaction_count\",\n",
    "                    title= f\"{year} BRANDS AND TRANSACTION COUNT\", width= 800, \n",
    "                    color_discrete_sequence= px.colors.sequential.Blues_r, hover_name= \"Brands\")\n",
    "\n",
    "    fig_bar_1.show()\n",
    "\n",
    "    return A_user_Y"
   ]
  },
  {
   "cell_type": "code",
   "execution_count": 7,
   "id": "69eb30b7",
   "metadata": {},
   "outputs": [],
   "source": [
    "def Agg_user_plot_2(df, quarter):\n",
    "\n",
    "    A_user_Y_Q  = df[df[\"Quarter\"] == quarter]\n",
    "    A_user_Y_Q.reset_index(drop= True, inplace= True)\n",
    "\n",
    "    A_user_Y_Q_group = pd.DataFrame(A_user_Y_Q.groupby(\"Brands\")[\"Transaction_count\"].sum()) \n",
    "    A_user_Y_Q_group.reset_index(inplace=True)\n",
    "\n",
    "\n",
    "    fig_bar_2 = px.bar(A_user_Y_Q_group, x= \"Brands\", y= \"Transaction_count\",\n",
    "                        title= f\"{quarter} QUARTER, BRANDS AND TRANSACTION COUNT\", width= 800, \n",
    "                        color_discrete_sequence= px.colors.sequential.Blues_r, hover_name= \"Brands\")\n",
    "\n",
    "    fig_bar_2.show()\n",
    "\n",
    "    return A_user_Y_Q"
   ]
  },
  {
   "cell_type": "code",
   "execution_count": 8,
   "id": "46c3da00",
   "metadata": {},
   "outputs": [],
   "source": [
    "def Agg_user_plot_3(df, state):\n",
    "    Agg_user_Y_Q_S = df[df[\"States\"] == state]\n",
    "    Agg_user_Y_Q_S.reset_index(drop=True, inplace=True)\n",
    "\n",
    "    fig_line_3 = px.line(Agg_user_Y_Q_S, x= \"Brands\", y= \"Transaction_count\", hover_data= \"Percentage\",\n",
    "                        title= f\"{state.upper()} BRANDS, TRANSACTION COUNT AND PERCENTAGE \", width=1000, markers=True)\n",
    "\n",
    "    fig_line_3.show()"
   ]
  },
  {
   "cell_type": "markdown",
   "id": "8e49d78f",
   "metadata": {},
   "source": [
    "### MAP FUNCTIONS"
   ]
  },
  {
   "cell_type": "code",
   "execution_count": 9,
   "id": "39861d06",
   "metadata": {},
   "outputs": [],
   "source": [
    "def Map_insu_Districts(df, state):\n",
    "\n",
    "\n",
    "    tacy = df[df[\"States\"] == state]\n",
    "    tacy.reset_index(drop=True, inplace=True)\n",
    "\n",
    "    tacy_group = tacy.groupby(\"Districts\")[[\"Transaction_count\", \"Transaction_amount\"]].sum()\n",
    "    tacy_group.reset_index(inplace=True)\n",
    "\n",
    "    fig_bar_1 = px.bar(tacy_group, x= \"Transaction_amount\", y= \"Districts\", orientation = \"h\",height = 600,\n",
    "                            title= f\"{state.upper()} DISTRICTS AND TRANSACTION AMOUNT\", color_discrete_sequence= px.colors.sequential.Agsunset_r)\n",
    "    fig_bar_1.show()\n",
    "\n",
    "    fig_bar_2 = px.bar(tacy_group, x= \"Transaction_count\", y= \"Districts\", orientation = \"h\",height = 600,\n",
    "                            title= f\"{state.upper()} DISTRICTS AND TRANSACTION COUNT\", color_discrete_sequence= px.colors.sequential.Burgyl_r)\n",
    "    \n",
    "    fig_bar_2.show()"
   ]
  },
  {
   "cell_type": "code",
   "execution_count": 10,
   "id": "86034bcb",
   "metadata": {},
   "outputs": [],
   "source": [
    "def map_user_plot_1(df,year):\n",
    "\n",
    "    M_user_Y  = df[df[\"Years\"] == year]\n",
    "    M_user_Y.reset_index(drop= True, inplace= True)\n",
    "\n",
    "    M_user_Y_group = M_user_Y.groupby(\"States\")[[\"RegisteredUsers\", \"AppOpens\"]].sum()\n",
    "    M_user_Y_group.reset_index(inplace=True)\n",
    "\n",
    "    fig_line_4 = px.line(M_user_Y_group, x= \"States\", y= [\"RegisteredUsers\", \"AppOpens\"],\n",
    "                        title= f\" {year} REGISTERED USERS AND APPOPENS \", width=1000, height = 800, markers=True)\n",
    "\n",
    "    fig_line_4.show()\n",
    "\n",
    "    return M_user_Y"
   ]
  },
  {
   "cell_type": "code",
   "execution_count": 11,
   "id": "8f22c30f",
   "metadata": {},
   "outputs": [],
   "source": [
    "def map_user_plot_2(df,quarter):\n",
    "\n",
    "    M_user_Y_Q  = df[df[\"Quarter\"] == quarter]\n",
    "    M_user_Y_Q.reset_index(drop= True, inplace= True)\n",
    "\n",
    "    M_user_Y_Q_group = M_user_Y_Q.groupby(\"States\")[[\"RegisteredUsers\", \"AppOpens\"]].sum()\n",
    "    M_user_Y_Q_group.reset_index(inplace=True)\n",
    "\n",
    "    fig_line_5 = px.line(M_user_Y_Q_group, x= \"States\", y= [\"RegisteredUsers\", \"AppOpens\"],\n",
    "                        title= f\"{df['Years'].min()} YEAR {quarter} QUARTER REGISTERED USERS AND APPOPENS \", width=1000, \n",
    "                        height = 800, markers=True, color_discrete_sequence= px.colors.sequential.Rainbow_r)\n",
    "\n",
    "    fig_line_5.show()\n",
    "\n",
    "    return M_user_Y_Q"
   ]
  },
  {
   "cell_type": "code",
   "execution_count": 12,
   "id": "b26f3998",
   "metadata": {},
   "outputs": [],
   "source": [
    "def map_user_plot_3(df,state):\n",
    "    M_user_Y_Q_S  = df[df[\"States\"] == state]\n",
    "    M_user_Y_Q_S.reset_index(drop= True, inplace= True)\n",
    "\n",
    "    Fig_map_user_bar_1 = px.bar(M_user_Y_Q_S, x= \"RegisteredUsers\", y= \"Districts\",\n",
    "                                orientation= \"h\", title= \"REGISTERED USER\",\n",
    "                                height= 800, color_discrete_sequence= px.colors.sequential.haline_r)\n",
    "\n",
    "    Fig_map_user_bar_1.show()\n",
    "\n",
    "    Fig_map_user_bar_2 = px.bar(M_user_Y_Q_S, x= \"AppOpens\", y= \"Districts\",\n",
    "                                orientation= \"h\", title= \"APPOPENS\",\n",
    "                                height= 800, color_discrete_sequence= px.colors.sequential.Magenta_r)\n",
    "\n",
    "    Fig_map_user_bar_2.show()"
   ]
  },
  {
   "cell_type": "markdown",
   "id": "3ca12046",
   "metadata": {},
   "source": [
    "### TOP FUNCIONS"
   ]
  },
  {
   "cell_type": "code",
   "execution_count": 13,
   "id": "7b94e458",
   "metadata": {},
   "outputs": [],
   "source": [
    "def top_ins_plot_1(df,state):\n",
    "    T_ins_Y  = df[df[\"States\"] == state]\n",
    "    T_ins_Y.reset_index(drop= True, inplace= True)\n",
    "\n",
    "    fig_top_ins_bar_1 = px.bar(T_ins_Y, x= \"Quarter\", y= \"Transaction_amount\", hover_data= \"Pincodes\",\n",
    "                            title= \"TRANSACTION AMOUNT\", height= 800, color_discrete_sequence= px.colors.sequential.Purpor_r)\n",
    "\n",
    "    fig_top_ins_bar_1.show()\n",
    "\n",
    "    fig_top_ins_bar_2 = px.bar(T_ins_Y, x= \"Quarter\", y= \"Transaction_count\", hover_data= \"Pincodes\",\n",
    "                            title= \"TRANSACTION COUNT\", height= 800, color_discrete_sequence= px.colors.sequential.algae_r)\n",
    "\n",
    "    fig_top_ins_bar_2.show()"
   ]
  },
  {
   "cell_type": "code",
   "execution_count": 14,
   "id": "9575c867",
   "metadata": {},
   "outputs": [],
   "source": [
    "def top_user_plot_1(df,year):\n",
    "    T_user_Y  = df[df[\"Years\"] == year]\n",
    "    T_user_Y.reset_index(drop= True, inplace= True)\n",
    "\n",
    "    T_user_Y_group = pd.DataFrame(T_user_Y.groupby([\"States\", \"Quarter\"])[\"RegisteredUsers\"].sum())\n",
    "    T_user_Y_group.reset_index(inplace=True)\n",
    "\n",
    "    fig_top_user_plot_1 = px.bar(T_user_Y_group, x= \"States\", y= \"RegisteredUsers\", color= \"Quarter\",\n",
    "                            width= 1000, height= 800, color_discrete_sequence = px.colors.sequential.Bluered_r,\n",
    "                            hover_name= \"States\", title= f\"{year} REGISTERED USERS\")\n",
    "\n",
    "    fig_top_user_plot_1.show()\n",
    "\n",
    "    return T_user_Y"
   ]
  },
  {
   "cell_type": "code",
   "execution_count": 15,
   "id": "726bfcf5",
   "metadata": {},
   "outputs": [],
   "source": [
    "def top_user_plot_2(df,state):\n",
    "    T_user_Y_S = df[df[\"States\"] == state]\n",
    "    T_user_Y_S.reset_index(drop= True, inplace= True)\n",
    "\n",
    "    fig_top_user_plot_2 = px.bar(T_user_Y_S, x= \"Quarter\", y= \"RegisteredUsers\",\n",
    "                                title = \"REGISTERED USERS, PINCODES, QUARTER\",\n",
    "                                width= 1000, height= 800, color= \"RegisteredUsers\", hover_data= \"Pincodes\",\n",
    "                                color_continuous_scale= px.colors.sequential.Magenta_r)\n",
    "\n",
    "    fig_top_user_plot_2.show()"
   ]
  },
  {
   "cell_type": "markdown",
   "id": "fb0c1c7d",
   "metadata": {},
   "source": [
    "### AGGREGATED_INSURANCE"
   ]
  },
  {
   "cell_type": "code",
   "execution_count": null,
   "id": "1ea177d0",
   "metadata": {},
   "outputs": [],
   "source": [
    "tac_y = transaction_amount_count_Y(A_insurance, 2022)"
   ]
  },
  {
   "cell_type": "code",
   "execution_count": null,
   "id": "7cabd29e",
   "metadata": {},
   "outputs": [],
   "source": [
    "transaction_amount_count_Y_Q(tac_y, 1)"
   ]
  },
  {
   "cell_type": "markdown",
   "id": "6e019185",
   "metadata": {},
   "source": [
    "### AGGREGATED_TRANSACTION"
   ]
  },
  {
   "cell_type": "code",
   "execution_count": null,
   "id": "f6772dc1",
   "metadata": {},
   "outputs": [],
   "source": [
    "Agg_tran_tac_y = transaction_amount_count_Y(A_transaction, 2022)"
   ]
  },
  {
   "cell_type": "code",
   "execution_count": null,
   "id": "dacba9bd",
   "metadata": {},
   "outputs": [],
   "source": [
    "Agg_tran_type(Agg_tran_tac_y, \"Tamil Nadu\")"
   ]
  },
  {
   "cell_type": "code",
   "execution_count": null,
   "id": "4463c9ae",
   "metadata": {},
   "outputs": [],
   "source": [
    "Agg_tran_tac_y_Q = transaction_amount_count_Y_Q(Agg_tran_tac_y, 3)"
   ]
  },
  {
   "cell_type": "code",
   "execution_count": null,
   "id": "28c53541",
   "metadata": {},
   "outputs": [],
   "source": [
    "Agg_tran_type(Agg_tran_tac_y_Q, \"Tamil Nadu\")"
   ]
  },
  {
   "cell_type": "markdown",
   "id": "038155fe",
   "metadata": {},
   "source": [
    "### AGGREGATED USER"
   ]
  },
  {
   "cell_type": "code",
   "execution_count": null,
   "id": "a252a676",
   "metadata": {},
   "outputs": [],
   "source": [
    "Agg_user_Y= Agg_user_plot_1(A_user, 2018)"
   ]
  },
  {
   "cell_type": "code",
   "execution_count": null,
   "id": "4d44abfe",
   "metadata": {},
   "outputs": [],
   "source": [
    "Agg_user_Y_Q = Agg_user_plot_2(Agg_user_Y,3)"
   ]
  },
  {
   "cell_type": "code",
   "execution_count": null,
   "id": "7832a1d2",
   "metadata": {},
   "outputs": [],
   "source": [
    "Agg_user_plot_3(Agg_user_Y_Q, \"Tamil Nadu\")"
   ]
  },
  {
   "cell_type": "code",
   "execution_count": null,
   "id": "e53c15dd",
   "metadata": {},
   "outputs": [],
   "source": [
    "Agg_user_Y_Q "
   ]
  },
  {
   "cell_type": "code",
   "execution_count": null,
   "id": "2bbc3544",
   "metadata": {},
   "outputs": [],
   "source": [
    "Agg_user_Y"
   ]
  },
  {
   "cell_type": "markdown",
   "id": "6799643a",
   "metadata": {},
   "source": [
    "### MAP INSURANCE"
   ]
  },
  {
   "cell_type": "code",
   "execution_count": null,
   "id": "b44b6817",
   "metadata": {},
   "outputs": [],
   "source": [
    "Map_insu_tac_y = transaction_amount_count_Y(M_insurance, 2022)"
   ]
  },
  {
   "cell_type": "code",
   "execution_count": null,
   "id": "f79c79fd",
   "metadata": {},
   "outputs": [],
   "source": [
    "Map_insu_Districts(Map_insu_tac_y, \"Tamil Nadu\")"
   ]
  },
  {
   "cell_type": "code",
   "execution_count": null,
   "id": "9db860f9",
   "metadata": {},
   "outputs": [],
   "source": [
    "Map_insu_tac_y_Q = transaction_amount_count_Y_Q(Map_insu_tac_y, 3)"
   ]
  },
  {
   "cell_type": "code",
   "execution_count": null,
   "id": "9e5a9747",
   "metadata": {},
   "outputs": [],
   "source": [
    "Map_insu_Districts(Map_insu_tac_y_Q, \"Tamil Nadu\")"
   ]
  },
  {
   "cell_type": "markdown",
   "id": "753d0395",
   "metadata": {},
   "source": [
    "### MAP TRANSACTION"
   ]
  },
  {
   "cell_type": "code",
   "execution_count": null,
   "id": "969b0f3c",
   "metadata": {},
   "outputs": [],
   "source": [
    "Map_tran_tac_y = transaction_amount_count_Y(M_transaction, 2022)"
   ]
  },
  {
   "cell_type": "code",
   "execution_count": null,
   "id": "88bee9bd",
   "metadata": {},
   "outputs": [],
   "source": [
    "Map_insu_Districts(Map_tran_tac_y, \"Tamil Nadu\")"
   ]
  },
  {
   "cell_type": "code",
   "execution_count": null,
   "id": "c3687958",
   "metadata": {},
   "outputs": [],
   "source": [
    "Map_tran_tac_y_Q = transaction_amount_count_Y_Q(Map_tran_tac_y, 3)"
   ]
  },
  {
   "cell_type": "code",
   "execution_count": null,
   "id": "faa526b0",
   "metadata": {},
   "outputs": [],
   "source": [
    "Map_insu_Districts(Map_tran_tac_y_Q, \"Tamil Nadu\")"
   ]
  },
  {
   "cell_type": "markdown",
   "id": "1bab5f8e",
   "metadata": {},
   "source": [
    "### MAP USER"
   ]
  },
  {
   "cell_type": "code",
   "execution_count": null,
   "id": "b9dcc956",
   "metadata": {},
   "outputs": [],
   "source": [
    "Map_user_Y = map_user_plot_1(M_user, 2020)"
   ]
  },
  {
   "cell_type": "code",
   "execution_count": null,
   "id": "ed96f859",
   "metadata": {},
   "outputs": [],
   "source": [
    "Map_user_Y_Q = map_user_plot_2(Map_user_Y, 2)"
   ]
  },
  {
   "cell_type": "code",
   "execution_count": null,
   "id": "44785de9",
   "metadata": {},
   "outputs": [],
   "source": [
    "map_user_plot_3(Map_user_Y_Q, \"Tamil Nadu\")"
   ]
  },
  {
   "cell_type": "markdown",
   "id": "a517c237",
   "metadata": {},
   "source": [
    "### TOP INSURANCE"
   ]
  },
  {
   "cell_type": "code",
   "execution_count": null,
   "id": "72f13937",
   "metadata": {},
   "outputs": [],
   "source": [
    "Top_insu_tac_y = transaction_amount_count_Y(T_insurance, 2022)"
   ]
  },
  {
   "cell_type": "code",
   "execution_count": null,
   "id": "80e51d5c",
   "metadata": {},
   "outputs": [],
   "source": [
    "top_ins_plot_1(T_insurance,\"Tamil Nadu\")"
   ]
  },
  {
   "cell_type": "code",
   "execution_count": null,
   "id": "423925c6",
   "metadata": {},
   "outputs": [],
   "source": [
    "top_ins_tac_y_Q = transaction_amount_count_Y_Q(Top_insu_tac_y, 2)"
   ]
  },
  {
   "cell_type": "markdown",
   "id": "f9228ddc",
   "metadata": {},
   "source": [
    "### TOP TRANSACTION"
   ]
  },
  {
   "cell_type": "code",
   "execution_count": null,
   "id": "15ce3310",
   "metadata": {},
   "outputs": [],
   "source": [
    "top_tran_tac_y = transaction_amount_count_Y(T_transaction, 2023)"
   ]
  },
  {
   "cell_type": "code",
   "execution_count": null,
   "id": "d5e1e281",
   "metadata": {},
   "outputs": [],
   "source": [
    "top_ins_plot_1(top_tran_tac_y,\"Tamil Nadu\")"
   ]
  },
  {
   "cell_type": "code",
   "execution_count": null,
   "id": "e47ff77f",
   "metadata": {},
   "outputs": [],
   "source": [
    "top_tran_tac_y_Q = transaction_amount_count_Y_Q(top_tran_tac_y, 2)"
   ]
  },
  {
   "cell_type": "markdown",
   "id": "9f1b5686",
   "metadata": {},
   "source": [
    "### TOP USER"
   ]
  },
  {
   "cell_type": "code",
   "execution_count": null,
   "id": "540c3565",
   "metadata": {},
   "outputs": [],
   "source": [
    "T_user_Y = top_user_plot_1(T_user,2023)"
   ]
  },
  {
   "cell_type": "code",
   "execution_count": null,
   "id": "baa7633d",
   "metadata": {},
   "outputs": [],
   "source": [
    "top_user_plot_2(T_user_Y, \"Tamil Nadu\")"
   ]
  }
 ],
 "metadata": {
  "kernelspec": {
   "display_name": "Python 3",
   "language": "python",
   "name": "python3"
  },
  "language_info": {
   "codemirror_mode": {
    "name": "ipython",
    "version": 3
   },
   "file_extension": ".py",
   "mimetype": "text/x-python",
   "name": "python",
   "nbconvert_exporter": "python",
   "pygments_lexer": "ipython3",
   "version": "3.13.5"
  }
 },
 "nbformat": 4,
 "nbformat_minor": 5
}
